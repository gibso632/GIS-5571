{
 "cells": [
  {
   "cell_type": "markdown",
   "metadata": {},
   "source": [
    "## Welcome to your notebook.\n"
   ]
  },
  {
   "cell_type": "markdown",
   "metadata": {},
   "source": [
    "#### Run this cell to connect to your GIS and get started:"
   ]
  },
  {
   "cell_type": "code",
   "execution_count": 25,
   "metadata": {},
   "outputs": [
    {
     "name": "stderr",
     "output_type": "stream",
     "text": [
      "/opt/conda/lib/python3.9/site-packages/arcgis/gis/__init__.py:676: UserWarning: You are logged on as gibso632_UMN with an administrator role, proceed with caution.\n",
      "  warnings.warn(\n"
     ]
    }
   ],
   "source": [
    "from arcgis.gis import GIS\n",
    "gis = GIS(\"home\")\n",
    "from IPython.display import display\n",
    "from arcgis.features import use_proximity"
   ]
  },
  {
   "cell_type": "markdown",
   "metadata": {},
   "source": [
    "#### Now you are ready to start!"
   ]
  },
  {
   "cell_type": "code",
   "execution_count": 26,
   "metadata": {},
   "outputs": [
    {
     "data": {
      "text/html": [
       "<div class=\"9item_container\" style=\"height: auto; overflow: hidden; border: 1px solid #cfcfcf; border-radius: 2px; background: #f6fafa; line-height: 1.21429em; padding: 10px;\">\n",
       "                    <div class=\"item_left\" style=\"width: 210px; float: left;\">\n",
       "                       <a href='https://www.arcgis.com/home/user.html?user=gibso632_UMN' target='_blank'>\n",
       "                        <img src='https://www.arcgis.com/home/js/arcgisonline/css/images/no-user-thumb.jpg' class=\"itemThumbnail\">\n",
       "                       </a>\n",
       "                    </div>\n",
       "\n",
       "                    <div class=\"item_right\" style=\"float: none; width: auto; overflow: hidden;\">\n",
       "                        <a href='https://www.arcgis.com/home/user.html?user=gibso632_UMN' target='_blank'><b>Eric T Gibson</b>\n",
       "                        </a>\n",
       "                        <br/><br/><b>Bio</b>: None\n",
       "                        <br/><b>First Name</b>: Eric\n",
       "                        <br/><b>Last Name</b>: T\n",
       "                        <br/><b>Username</b>: gibso632_UMN\n",
       "                        <br/><b>Joined</b>: January 26, 2023\n",
       "\n",
       "                    </div>\n",
       "                </div>\n",
       "                "
      ],
      "text/plain": [
       "<User username:gibso632_UMN>"
      ]
     },
     "execution_count": 26,
     "metadata": {},
     "output_type": "execute_result"
    }
   ],
   "source": [
    "me = gis.users.me\n",
    "me"
   ]
  },
  {
   "cell_type": "code",
   "execution_count": 28,
   "metadata": {},
   "outputs": [
    {
     "name": "stdout",
     "output_type": "stream",
     "text": [
      "<Item title:\"Rice County Roads\" type:Feature Layer Collection owner:gibso632_UMN> <Item title:\"Dakota County Roads\" type:Feature Layer Collection owner:gibso632_UMN> <Item title:\"State Forest Roads\" type:Feature Layer Collection owner:gibso632_UMN>\n"
     ]
    },
    {
     "data": {
      "text/html": [
       "<div class=\"item_container\" style=\"height: auto; overflow: hidden; border: 1px solid #cfcfcf; border-radius: 2px; background: #f6fafa; line-height: 1.21429em; padding: 10px;\">\n",
       "                    <div class=\"item_left\" style=\"width: 210px; float: left;\">\n",
       "                       <a href='https://www.arcgis.com/home/item.html?id=fc4fb78bb17e4e43abefc65b77c3fe72' target='_blank'>\n",
       "                        <img src='data:image/png;base64,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' width='200' height='133' class=\"itemThumbnail\">\n",
       "                       </a>\n",
       "                    </div>\n",
       "\n",
       "                    <div class=\"item_right\"     style=\"float: none; width: auto; overflow: hidden;\">\n",
       "                        <a href='https://www.arcgis.com/home/item.html?id=fc4fb78bb17e4e43abefc65b77c3fe72' target='_blank'><b>Rice County Roads</b>\n",
       "                        </a>\n",
       "                        <br/>Define the location of the roads in Rice County and provide address range information for the County and the 911 Center<img src='https://www.arcgis.com/home/js/jsapi/esri/css/images/item_type_icons/featureshosted16.png' style=\"vertical-align:middle;\">Feature Layer Collection by gibso632_UMN\n",
       "                        <br/>Last Modified: September 12, 2023\n",
       "                        <br/>0 comments, 6 views\n",
       "                    </div>\n",
       "                </div>\n",
       "                "
      ],
      "text/plain": [
       "<Item title:\"Rice County Roads\" type:Feature Layer Collection owner:gibso632_UMN>"
      ]
     },
     "metadata": {},
     "output_type": "display_data"
    },
    {
     "data": {
      "text/html": [
       "<div class=\"item_container\" style=\"height: auto; overflow: hidden; border: 1px solid #cfcfcf; border-radius: 2px; background: #f6fafa; line-height: 1.21429em; padding: 10px;\">\n",
       "                    <div class=\"item_left\" style=\"width: 210px; float: left;\">\n",
       "                       <a href='https://www.arcgis.com/home/item.html?id=fab1f300fefb46b48561491f5284be9c' target='_blank'>\n",
       "                        <img src='data:image/png;base64,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' width='200' height='133' class=\"itemThumbnail\">\n",
       "                       </a>\n",
       "                    </div>\n",
       "\n",
       "                    <div class=\"item_right\"     style=\"float: none; width: auto; overflow: hidden;\">\n",
       "                        <a href='https://www.arcgis.com/home/item.html?id=fab1f300fefb46b48561491f5284be9c' target='_blank'><b>Dakota County Roads</b>\n",
       "                        </a>\n",
       "                        <br/>A road centerline database that can be used for assigning addresses, geocoding, labeling and general cartographic dispaly.<img src='https://www.arcgis.com/home/js/jsapi/esri/css/images/item_type_icons/featureshosted16.png' style=\"vertical-align:middle;\">Feature Layer Collection by gibso632_UMN\n",
       "                        <br/>Last Modified: September 12, 2023\n",
       "                        <br/>0 comments, 5 views\n",
       "                    </div>\n",
       "                </div>\n",
       "                "
      ],
      "text/plain": [
       "<Item title:\"Dakota County Roads\" type:Feature Layer Collection owner:gibso632_UMN>"
      ]
     },
     "metadata": {},
     "output_type": "display_data"
    },
    {
     "data": {
      "text/html": [
       "<div class=\"item_container\" style=\"height: auto; overflow: hidden; border: 1px solid #cfcfcf; border-radius: 2px; background: #f6fafa; line-height: 1.21429em; padding: 10px;\">\n",
       "                    <div class=\"item_left\" style=\"width: 210px; float: left;\">\n",
       "                       <a href='https://www.arcgis.com/home/item.html?id=03b0a4ae8ee246199699ef653581d8e2' target='_blank'>\n",
       "                        <img src='data:image/png;base64,iVBORw0KGgoAAAANSUhEUgAAAMgAAACFCAYAAAAenrcsAAAHDUlEQVR4Xu3daW8aRxyAcX//L9DXfdc3adOqVZSkaqpcjds0cRrbcXxgLnOZ0wYDNnjKf3zhCSws3mt2np/kOBksRQn7sLO7sLNW+9JUs8wbt1Hz8ESdlHvmMBwm24NsF4usrX+3aY6lEpFgWuZF8d720Cl2px69sya/yA+7QEdSIhIoVd1qXH1tNtT+88JkxtQyf0TTgbikRSQweO0gnAtEtLJEgjsEMsNVJLPnnXALgcyhIzkiEtcRiAcigRfnAxESSYdIMAOBXMu9LZtDAIFMy74umUNwHIEYXImklTtRu09yau9ZXl8sm3cl2XUEMoMrkdxo7LfV5qMDcxiKQOZyLZJu7czzdKerCMSDS5HsPs2p0saxOew8AlnAlUjYe8xGIEtwIRICmY1AlpTmSL4+yZlDuEYgPnhF0sx0VPGfquod982HEqmdP9Xfvf5NIBDf0rJBbf+cUV9+OWRqtQCBrCAtkQgC8UYgK0pLJHIVHfMRyANkX9v/BkcC8UYgD2T7nqRXt+OkQlwIJAC2R4L5bgM5+remtn48uP3qtwbTP4cFiCSdbgNhLvpw248z5hAsdxtILgUHnEnAniRdpgLhiQ0KkaTHWuVzQ239xNQgaGk4BYzrPQhXU8PBnsR+a3JDZ3mjHcJR2WwsdZt9JNPaeffCHEPA5IYIRGInLhRGRCIprFfNYSQcgURILr4ef529DgWSiUAi1m8NicQiBBKDfnt4dYbr0nwESUMgMcq9KRNJwhFIzOSm2ZdjKkkqAkkAWUxS1k5E8hBIQshpYFmnBMlCIAkikcitg5AczgYiN2tOokFnqGpfmuYwYuJkIMX3tcmr9dWN05JIR7Ld5OA9AZwMxIZPTw5Ohir/rqIuR0QSJwJJOCKJ19rhyyPnzp7YFIiQSFx7jpJC70Fs22AeysZ/b7twSiQx0IHIf75LpxdtPUtEJNFz8hjEZhKJjXtAWxGIhYan50QSEQKxlESy/3tBjS/G5kMIEIFYrvB3VY3PiSQsBJICcoKFSMJBIClR/lRXrRxnuIJGICmiTwMTSaAIJGVk9dr6XtscxooIJIXOmgNV/q9uDmMFBBKh896FOvpQM4dDIX+XHJfgYQgkQtlXJb3hRkX+rsyfR2o0HJkPYUkEEqHyxvFkD3Ksp0Dy/eb39d222nteCO3quCyvRySrIZCInZ9dqJNST3+/+b3cbTFsEsmwe24OYwECcYjc8rSVS+5HjZOIQBwjp4HbRLI0AnGQRFKaHP9gMQJx1EV/pEofiWQRAnEYkSxGII6TSA5eFPV3fItAoMmehEi+RSC4Vdo41gfwuEMguEdOAbNE3B0CwTfkirtceQeBYI7RYHLw/kdRvx3GZQQCT/KGSpePSwgEC8nHeI/euznlIhAsZTQc68+WRPl5liQgEPgiH+V1acpFIPBNplzlDTc+zksgWMnofKxvWDfspnvKRSBYmURS+dxQvXrffCg1CAQP1thvW7vmyiIEgkBcDEb6RtppQyAIjCzFIEsyyNIMaUEgCJysQy/3CU4DAkEoZC3FwnrFHLYOgSA049GlnnINTuydchEIQlfdalo75SIQREKmXJWY7zi/yp6MQBCZy8mU6/BlaaUNNQiZF0VzaCECQeRq2011Wjkzh0MXeyCnlZ45BMzUOOio6na0V9/jD6TcU/m/KmrQCf9u5bCfnOWKcnuJPRBxOb5MxflvREO2F3kfl7y4hi0RgfQnrwY7v2XNYcBTM9NRnWLXHA5UIgIprFf1qwLgV/PwROXels3hwEggm48OzGFPgQey/ThjDgHLm7y27j3Lq347+OOSROxBWHfCvzA2BtvJW+f9Trmyb0r6guRcK0xsAg8E/siTusoT5wKZci27sKnEFMYtUwkkRrIByBe8ZV+XVL81MIdvVSYRhfVhLQKJQeeoq6pbjVBe8dJK/q/MKZf8ee9p/t5Y0AgE1jCnXMtOvx6CQGAdmXKdTaZcq5yV8otAYKX6bkt9+mFPnTXnH5sEgUBgLf0Zk8/LT7NWiYlAYD095Vpi419lSkYgSIX6XnthJAQCp0kkHY/PvhMInCXXluTGEIevSqr8afZn3wkETpNlGW7o45LG/ZtqEwgwRaZc029eJBDAIOu+39yTi0CAGWTJOJlyrbJ0HIHAGbLuu9/FfggETil99Lfuuw6kd+yvKsBmEsi8U8EmHciH73fMcSD18u8qC3cOOpBVju6BNChteE+5dCB+3hEJpI2cBpa9SWmjrm96KF/d6z0LB+kR6tbO9BMh96VFsskxitwAkUAADwQCeCAQwAOBAB4IBPBAIIAHAgE8EAjggUB8imN1VsSHQHzKh7gCEpKHQHyK4obJSA4C8UmWLTYd77CMQVoRiE/mHkSWL65tN++NIT0IxKfpQCSOnV+zt3+WGwMgXf4HI/GiW6eqCCsAAAAASUVORK5CYII=' width='200' height='133' class=\"itemThumbnail\">\n",
       "                       </a>\n",
       "                    </div>\n",
       "\n",
       "                    <div class=\"item_right\"     style=\"float: none; width: auto; overflow: hidden;\">\n",
       "                        <a href='https://www.arcgis.com/home/item.html?id=03b0a4ae8ee246199699ef653581d8e2' target='_blank'><b>State Forest Roads</b>\n",
       "                        </a>\n",
       "                        <br/>To have an accurate forest road layer.  Our foresters had some complaints about our previous county forest road layer regarding the accuracy.  After the GPS was complete I found that in some areas the accuracy of the original layer was off by 100'-200'.<img src='https://www.arcgis.com/home/js/jsapi/esri/css/images/item_type_icons/featureshosted16.png' style=\"vertical-align:middle;\">Feature Layer Collection by gibso632_UMN\n",
       "                        <br/>Last Modified: September 12, 2023\n",
       "                        <br/>0 comments, 7 views\n",
       "                    </div>\n",
       "                </div>\n",
       "                "
      ],
      "text/plain": [
       "<Item title:\"State Forest Roads\" type:Feature Layer Collection owner:gibso632_UMN>"
      ]
     },
     "metadata": {},
     "output_type": "display_data"
    }
   ],
   "source": [
    "my_content = me.items()\n",
    "\n",
    "for item in my_content:\n",
    "    if item.title == \"Rice County Roads\":\n",
    "        Rice_County = item\n",
    "    if item.title == \"Dakota County Roads\":\n",
    "        Dakota_County = item\n",
    "    if item.title == \"State Forest Roads\":\n",
    "        State_Forest = item\n",
    "        \n",
    "print(Rice_County,Dakota_County,State_Forest)\n",
    "display(Rice_County,Dakota_County,State_Forest)"
   ]
  },
  {
   "cell_type": "code",
   "execution_count": 34,
   "metadata": {},
   "outputs": [
    {
     "name": "stderr",
     "output_type": "stream",
     "text": [
      "{\"cost\": 5.918}\n"
     ]
    }
   ],
   "source": [
    "Rice_County_buf = use_proximity.create_buffers(Rice_County,distances=[100],units='Meters')"
   ]
  },
  {
   "cell_type": "code",
   "execution_count": 35,
   "metadata": {},
   "outputs": [
    {
     "name": "stderr",
     "output_type": "stream",
     "text": [
      "{\"messageCode\": \"AO_100291\", \"message\": \"Failed to publish analysis results as a feature collection because one of the output layers has more than 9999 features. To keep all features, save your result as a feature layer.\"}\n",
      "{\"messageCode\": \"AO_100012\", \"message\": \"CreateBuffers failed.\"}\n",
      "Failed to execute (CreateBuffers).\n",
      "Failed.\n"
     ]
    },
    {
     "ename": "Exception",
     "evalue": "Job failed.",
     "output_type": "error",
     "traceback": [
      "\u001b[0;31m---------------------------------------------------------------------------\u001b[0m",
      "\u001b[0;31mException\u001b[0m                                 Traceback (most recent call last)",
      "\u001b[0;32m/tmp/ipykernel_36/582296920.py\u001b[0m in \u001b[0;36m<cell line: 1>\u001b[0;34m()\u001b[0m\n\u001b[0;32m----> 1\u001b[0;31m \u001b[0mDakota_County_buf\u001b[0m \u001b[0;34m=\u001b[0m \u001b[0muse_proximity\u001b[0m\u001b[0;34m.\u001b[0m\u001b[0mcreate_buffers\u001b[0m\u001b[0;34m(\u001b[0m\u001b[0mDakota_County\u001b[0m\u001b[0;34m,\u001b[0m\u001b[0mdistances\u001b[0m\u001b[0;34m=\u001b[0m\u001b[0;34m[\u001b[0m\u001b[0;36m100\u001b[0m\u001b[0;34m]\u001b[0m\u001b[0;34m,\u001b[0m\u001b[0munits\u001b[0m\u001b[0;34m=\u001b[0m\u001b[0;34m'Meters'\u001b[0m\u001b[0;34m)\u001b[0m\u001b[0;34m\u001b[0m\u001b[0;34m\u001b[0m\u001b[0m\n\u001b[0m",
      "\u001b[0;32m/opt/conda/lib/python3.9/site-packages/arcgis/features/use_proximity.py\u001b[0m in \u001b[0;36mcreate_buffers\u001b[0;34m(input_layer, distances, field, units, dissolve_type, ring_type, side_type, end_type, output_name, context, gis, estimate, future)\u001b[0m\n\u001b[1;32m    589\u001b[0m         \u001b[0mfn\u001b[0m\u001b[0;34m=\u001b[0m\u001b[0mgis\u001b[0m\u001b[0;34m.\u001b[0m\u001b[0m_tools\u001b[0m\u001b[0;34m.\u001b[0m\u001b[0mfeatureanalysis\u001b[0m\u001b[0;34m.\u001b[0m\u001b[0m_tbx\u001b[0m\u001b[0;34m.\u001b[0m\u001b[0mcreate_buffers\u001b[0m\u001b[0;34m,\u001b[0m \u001b[0;34m**\u001b[0m\u001b[0mkwargs\u001b[0m\u001b[0;34m\u001b[0m\u001b[0;34m\u001b[0m\u001b[0m\n\u001b[1;32m    590\u001b[0m     )\n\u001b[0;32m--> 591\u001b[0;31m     \u001b[0;32mreturn\u001b[0m \u001b[0mgis\u001b[0m\u001b[0;34m.\u001b[0m\u001b[0m_tools\u001b[0m\u001b[0;34m.\u001b[0m\u001b[0mfeatureanalysis\u001b[0m\u001b[0;34m.\u001b[0m\u001b[0mcreate_buffers\u001b[0m\u001b[0;34m(\u001b[0m\u001b[0;34m**\u001b[0m\u001b[0mparams\u001b[0m\u001b[0;34m)\u001b[0m\u001b[0;34m\u001b[0m\u001b[0;34m\u001b[0m\u001b[0m\n\u001b[0m\u001b[1;32m    592\u001b[0m \u001b[0;34m\u001b[0m\u001b[0m\n\u001b[1;32m    593\u001b[0m \u001b[0;34m\u001b[0m\u001b[0m\n",
      "\u001b[0;32m/opt/conda/lib/python3.9/site-packages/arcgis/_impl/tools.py\u001b[0m in \u001b[0;36mcreate_buffers\u001b[0;34m(self, input_layer, distances, field, units, dissolve_type, ring_type, side_type, end_type, output_name, context, estimate, future)\u001b[0m\n\u001b[1;32m   2327\u001b[0m         \u001b[0;32mif\u001b[0m \u001b[0mfuture\u001b[0m\u001b[0;34m:\u001b[0m\u001b[0;34m\u001b[0m\u001b[0;34m\u001b[0m\u001b[0m\n\u001b[1;32m   2328\u001b[0m             \u001b[0;32mreturn\u001b[0m \u001b[0mgpjob\u001b[0m\u001b[0;34m\u001b[0m\u001b[0;34m\u001b[0m\u001b[0m\n\u001b[0;32m-> 2329\u001b[0;31m         \u001b[0mret\u001b[0m \u001b[0;34m=\u001b[0m \u001b[0mgpjob\u001b[0m\u001b[0;34m.\u001b[0m\u001b[0mresult\u001b[0m\u001b[0;34m(\u001b[0m\u001b[0;34m)\u001b[0m\u001b[0;34m\u001b[0m\u001b[0;34m\u001b[0m\u001b[0m\n\u001b[0m\u001b[1;32m   2330\u001b[0m         \u001b[0;32mif\u001b[0m \u001b[0moutput_name\u001b[0m \u001b[0;32mis\u001b[0m \u001b[0;32mnot\u001b[0m \u001b[0;32mNone\u001b[0m \u001b[0;32mand\u001b[0m \u001b[0;34m\"bufferLayer\"\u001b[0m \u001b[0;32min\u001b[0m \u001b[0mret\u001b[0m\u001b[0;34m:\u001b[0m\u001b[0;34m\u001b[0m\u001b[0;34m\u001b[0m\u001b[0m\n\u001b[1;32m   2331\u001b[0m             \u001b[0;32mreturn\u001b[0m \u001b[0mret\u001b[0m\u001b[0;34m[\u001b[0m\u001b[0;34m\"bufferLayer\"\u001b[0m\u001b[0;34m]\u001b[0m\u001b[0;34m\u001b[0m\u001b[0;34m\u001b[0m\u001b[0m\n",
      "\u001b[0;32m/opt/conda/lib/python3.9/site-packages/arcgis/geoprocessing/_job.py\u001b[0m in \u001b[0;36mresult\u001b[0;34m(self)\u001b[0m\n\u001b[1;32m    229\u001b[0m             \u001b[0;32mreturn\u001b[0m \u001b[0;32mNone\u001b[0m\u001b[0;34m\u001b[0m\u001b[0;34m\u001b[0m\u001b[0m\n\u001b[1;32m    230\u001b[0m         \u001b[0;32mif\u001b[0m \u001b[0mself\u001b[0m\u001b[0;34m.\u001b[0m\u001b[0m_is_fa\u001b[0m\u001b[0;34m:\u001b[0m\u001b[0;34m\u001b[0m\u001b[0;34m\u001b[0m\u001b[0m\n\u001b[0;32m--> 231\u001b[0;31m             \u001b[0;32mreturn\u001b[0m \u001b[0mself\u001b[0m\u001b[0;34m.\u001b[0m\u001b[0m_process_fa\u001b[0m\u001b[0;34m(\u001b[0m\u001b[0mself\u001b[0m\u001b[0;34m.\u001b[0m\u001b[0m_future\u001b[0m\u001b[0;34m.\u001b[0m\u001b[0mresult\u001b[0m\u001b[0;34m(\u001b[0m\u001b[0;34m)\u001b[0m\u001b[0;34m)\u001b[0m\u001b[0;34m\u001b[0m\u001b[0;34m\u001b[0m\u001b[0m\n\u001b[0m\u001b[1;32m    232\u001b[0m         \u001b[0;32melif\u001b[0m \u001b[0mself\u001b[0m\u001b[0;34m.\u001b[0m\u001b[0m_is_ra\u001b[0m\u001b[0;34m:\u001b[0m\u001b[0;34m\u001b[0m\u001b[0;34m\u001b[0m\u001b[0m\n\u001b[1;32m    233\u001b[0m             \u001b[0;32mreturn\u001b[0m \u001b[0mself\u001b[0m\u001b[0;34m.\u001b[0m\u001b[0m_process_ra\u001b[0m\u001b[0;34m(\u001b[0m\u001b[0mself\u001b[0m\u001b[0;34m.\u001b[0m\u001b[0m_future\u001b[0m\u001b[0;34m.\u001b[0m\u001b[0mresult\u001b[0m\u001b[0;34m(\u001b[0m\u001b[0;34m)\u001b[0m\u001b[0;34m)\u001b[0m\u001b[0;34m\u001b[0m\u001b[0;34m\u001b[0m\u001b[0m\n",
      "\u001b[0;32m/opt/conda/lib/python3.9/concurrent/futures/_base.py\u001b[0m in \u001b[0;36mresult\u001b[0;34m(self, timeout)\u001b[0m\n\u001b[1;32m    444\u001b[0m                     \u001b[0;32mraise\u001b[0m \u001b[0mCancelledError\u001b[0m\u001b[0;34m(\u001b[0m\u001b[0;34m)\u001b[0m\u001b[0;34m\u001b[0m\u001b[0;34m\u001b[0m\u001b[0m\n\u001b[1;32m    445\u001b[0m                 \u001b[0;32melif\u001b[0m \u001b[0mself\u001b[0m\u001b[0;34m.\u001b[0m\u001b[0m_state\u001b[0m \u001b[0;34m==\u001b[0m \u001b[0mFINISHED\u001b[0m\u001b[0;34m:\u001b[0m\u001b[0;34m\u001b[0m\u001b[0;34m\u001b[0m\u001b[0m\n\u001b[0;32m--> 446\u001b[0;31m                     \u001b[0;32mreturn\u001b[0m \u001b[0mself\u001b[0m\u001b[0;34m.\u001b[0m\u001b[0m__get_result\u001b[0m\u001b[0;34m(\u001b[0m\u001b[0;34m)\u001b[0m\u001b[0;34m\u001b[0m\u001b[0;34m\u001b[0m\u001b[0m\n\u001b[0m\u001b[1;32m    447\u001b[0m                 \u001b[0;32melse\u001b[0m\u001b[0;34m:\u001b[0m\u001b[0;34m\u001b[0m\u001b[0;34m\u001b[0m\u001b[0m\n\u001b[1;32m    448\u001b[0m                     \u001b[0;32mraise\u001b[0m \u001b[0mTimeoutError\u001b[0m\u001b[0;34m(\u001b[0m\u001b[0;34m)\u001b[0m\u001b[0;34m\u001b[0m\u001b[0;34m\u001b[0m\u001b[0m\n",
      "\u001b[0;32m/opt/conda/lib/python3.9/concurrent/futures/_base.py\u001b[0m in \u001b[0;36m__get_result\u001b[0;34m(self)\u001b[0m\n\u001b[1;32m    389\u001b[0m         \u001b[0;32mif\u001b[0m \u001b[0mself\u001b[0m\u001b[0;34m.\u001b[0m\u001b[0m_exception\u001b[0m\u001b[0;34m:\u001b[0m\u001b[0;34m\u001b[0m\u001b[0;34m\u001b[0m\u001b[0m\n\u001b[1;32m    390\u001b[0m             \u001b[0;32mtry\u001b[0m\u001b[0;34m:\u001b[0m\u001b[0;34m\u001b[0m\u001b[0;34m\u001b[0m\u001b[0m\n\u001b[0;32m--> 391\u001b[0;31m                 \u001b[0;32mraise\u001b[0m \u001b[0mself\u001b[0m\u001b[0;34m.\u001b[0m\u001b[0m_exception\u001b[0m\u001b[0;34m\u001b[0m\u001b[0;34m\u001b[0m\u001b[0m\n\u001b[0m\u001b[1;32m    392\u001b[0m             \u001b[0;32mfinally\u001b[0m\u001b[0;34m:\u001b[0m\u001b[0;34m\u001b[0m\u001b[0;34m\u001b[0m\u001b[0m\n\u001b[1;32m    393\u001b[0m                 \u001b[0;31m# Break a reference cycle with the exception in self._exception\u001b[0m\u001b[0;34m\u001b[0m\u001b[0;34m\u001b[0m\u001b[0m\n",
      "\u001b[0;32m/opt/conda/lib/python3.9/concurrent/futures/thread.py\u001b[0m in \u001b[0;36mrun\u001b[0;34m(self)\u001b[0m\n\u001b[1;32m     56\u001b[0m \u001b[0;34m\u001b[0m\u001b[0m\n\u001b[1;32m     57\u001b[0m         \u001b[0;32mtry\u001b[0m\u001b[0;34m:\u001b[0m\u001b[0;34m\u001b[0m\u001b[0;34m\u001b[0m\u001b[0m\n\u001b[0;32m---> 58\u001b[0;31m             \u001b[0mresult\u001b[0m \u001b[0;34m=\u001b[0m \u001b[0mself\u001b[0m\u001b[0;34m.\u001b[0m\u001b[0mfn\u001b[0m\u001b[0;34m(\u001b[0m\u001b[0;34m*\u001b[0m\u001b[0mself\u001b[0m\u001b[0;34m.\u001b[0m\u001b[0margs\u001b[0m\u001b[0;34m,\u001b[0m \u001b[0;34m**\u001b[0m\u001b[0mself\u001b[0m\u001b[0;34m.\u001b[0m\u001b[0mkwargs\u001b[0m\u001b[0;34m)\u001b[0m\u001b[0;34m\u001b[0m\u001b[0;34m\u001b[0m\u001b[0m\n\u001b[0m\u001b[1;32m     59\u001b[0m         \u001b[0;32mexcept\u001b[0m \u001b[0mBaseException\u001b[0m \u001b[0;32mas\u001b[0m \u001b[0mexc\u001b[0m\u001b[0;34m:\u001b[0m\u001b[0;34m\u001b[0m\u001b[0;34m\u001b[0m\u001b[0m\n\u001b[1;32m     60\u001b[0m             \u001b[0mself\u001b[0m\u001b[0;34m.\u001b[0m\u001b[0mfuture\u001b[0m\u001b[0;34m.\u001b[0m\u001b[0mset_exception\u001b[0m\u001b[0;34m(\u001b[0m\u001b[0mexc\u001b[0m\u001b[0;34m)\u001b[0m\u001b[0;34m\u001b[0m\u001b[0;34m\u001b[0m\u001b[0m\n",
      "\u001b[0;32m/opt/conda/lib/python3.9/site-packages/arcgis/geoprocessing/_support.py\u001b[0m in \u001b[0;36m_future_op\u001b[0;34m(gptool, task_url, job_info, job_id, param_db, return_values, return_messages)\u001b[0m\n\u001b[1;32m    320\u001b[0m ):\n\u001b[1;32m    321\u001b[0m \u001b[0;34m\u001b[0m\u001b[0m\n\u001b[0;32m--> 322\u001b[0;31m     \u001b[0mjob_info\u001b[0m \u001b[0;34m=\u001b[0m \u001b[0m_analysis_job_status\u001b[0m\u001b[0;34m(\u001b[0m\u001b[0mgptool\u001b[0m\u001b[0;34m,\u001b[0m \u001b[0mtask_url\u001b[0m\u001b[0;34m,\u001b[0m \u001b[0mjob_info\u001b[0m\u001b[0;34m)\u001b[0m\u001b[0;34m\u001b[0m\u001b[0;34m\u001b[0m\u001b[0m\n\u001b[0m\u001b[1;32m    323\u001b[0m     \u001b[0mresp\u001b[0m \u001b[0;34m=\u001b[0m \u001b[0m_analysis_job_results\u001b[0m\u001b[0;34m(\u001b[0m\u001b[0mgptool\u001b[0m\u001b[0;34m,\u001b[0m \u001b[0mtask_url\u001b[0m\u001b[0;34m,\u001b[0m \u001b[0mjob_info\u001b[0m\u001b[0;34m,\u001b[0m \u001b[0mjob_id\u001b[0m\u001b[0;34m)\u001b[0m\u001b[0;34m\u001b[0m\u001b[0;34m\u001b[0m\u001b[0m\n\u001b[1;32m    324\u001b[0m \u001b[0;34m\u001b[0m\u001b[0m\n",
      "\u001b[0;32m/opt/conda/lib/python3.9/site-packages/arcgis/geoprocessing/_support.py\u001b[0m in \u001b[0;36m_analysis_job_status\u001b[0;34m(gptool, task_url, job_info)\u001b[0m\n\u001b[1;32m    245\u001b[0m \u001b[0;34m\u001b[0m\u001b[0m\n\u001b[1;32m    246\u001b[0m                     \u001b[0;32mif\u001b[0m \u001b[0mjob_response\u001b[0m\u001b[0;34m.\u001b[0m\u001b[0mget\u001b[0m\u001b[0;34m(\u001b[0m\u001b[0;34m\"jobStatus\"\u001b[0m\u001b[0;34m)\u001b[0m \u001b[0;34m==\u001b[0m \u001b[0;34m\"esriJobFailed\"\u001b[0m\u001b[0;34m:\u001b[0m\u001b[0;34m\u001b[0m\u001b[0;34m\u001b[0m\u001b[0m\n\u001b[0;32m--> 247\u001b[0;31m                         \u001b[0;32mraise\u001b[0m \u001b[0mException\u001b[0m\u001b[0;34m(\u001b[0m\u001b[0;34m\"Job failed.\"\u001b[0m\u001b[0;34m)\u001b[0m\u001b[0;34m\u001b[0m\u001b[0;34m\u001b[0m\u001b[0m\n\u001b[0m\u001b[1;32m    248\u001b[0m                     \u001b[0;32melif\u001b[0m \u001b[0mjob_response\u001b[0m\u001b[0;34m.\u001b[0m\u001b[0mget\u001b[0m\u001b[0;34m(\u001b[0m\u001b[0;34m\"jobStatus\"\u001b[0m\u001b[0;34m)\u001b[0m \u001b[0;34m==\u001b[0m \u001b[0;34m\"esriJobCancelled\"\u001b[0m\u001b[0;34m:\u001b[0m\u001b[0;34m\u001b[0m\u001b[0;34m\u001b[0m\u001b[0m\n\u001b[1;32m    249\u001b[0m                         \u001b[0;32mraise\u001b[0m \u001b[0mException\u001b[0m\u001b[0;34m(\u001b[0m\u001b[0;34m\"Job cancelled.\"\u001b[0m\u001b[0;34m)\u001b[0m\u001b[0;34m\u001b[0m\u001b[0;34m\u001b[0m\u001b[0m\n",
      "\u001b[0;31mException\u001b[0m: Job failed."
     ]
    }
   ],
   "source": [
    "Dakota_County_buf = use_proximity.create_buffers(Dakota_County,distances=[100],units='Meters')"
   ]
  },
  {
   "cell_type": "code",
   "execution_count": 36,
   "metadata": {},
   "outputs": [
    {
     "name": "stderr",
     "output_type": "stream",
     "text": [
      "{\"cost\": 0.491}\n"
     ]
    }
   ],
   "source": [
    "State_Forest_buf = use_proximity.create_buffers(State_Forest,distances=[100],units='Meters')"
   ]
  },
  {
   "cell_type": "code",
   "execution_count": 30,
   "metadata": {},
   "outputs": [
    {
     "data": {
      "application/vnd.jupyter.widget-view+json": {
       "model_id": "394300d42bcf4679a275fadbd31f9b4d",
       "version_major": 2,
       "version_minor": 0
      },
      "text/plain": [
       "MapView(layout=Layout(height='400px', width='100%'))"
      ]
     },
     "metadata": {},
     "output_type": "display_data"
    },
    {
     "data": {
      "text/html": [
       "<div class=\"map-static-img-preview-1757da59-567f-4397-8c77-9c0fd72cfcec\"><img src=\"\"></img></div>"
      ],
      "text/plain": [
       "<IPython.core.display.HTML object>"
      ]
     },
     "metadata": {},
     "output_type": "display_data"
    },
    {
     "data": {
      "text/html": [
       "<div class=\"map-html-embed-preview-1757da59-567f-4397-8c77-9c0fd72cfcec\"></div>"
      ],
      "text/plain": [
       "<IPython.core.display.HTML object>"
      ]
     },
     "metadata": {},
     "output_type": "display_data"
    }
   ],
   "source": [
    "roads_map = gis.map(\"Minnesota\")\n",
    "display(roads_map)"
   ]
  },
  {
   "cell_type": "code",
   "execution_count": 40,
   "metadata": {},
   "outputs": [
    {
     "ename": "RuntimeError",
     "evalue": "Cannot infer layer: will not be added to map",
     "output_type": "error",
     "traceback": [
      "\u001b[0;31m---------------------------------------------------------------------------\u001b[0m",
      "\u001b[0;31mRuntimeError\u001b[0m                              Traceback (most recent call last)",
      "\u001b[0;32m/tmp/ipykernel_36/2951595773.py\u001b[0m in \u001b[0;36m<cell line: 2>\u001b[0;34m()\u001b[0m\n\u001b[1;32m      1\u001b[0m \u001b[0mbuffer_list\u001b[0m \u001b[0;34m=\u001b[0m \u001b[0;34m[\u001b[0m\u001b[0;34m'Rice_County_buf'\u001b[0m\u001b[0;34m,\u001b[0m\u001b[0;34m'Dakota_County_buf'\u001b[0m\u001b[0;34m,\u001b[0m\u001b[0;34m'State_Forest_buf'\u001b[0m\u001b[0;34m]\u001b[0m\u001b[0;34m\u001b[0m\u001b[0;34m\u001b[0m\u001b[0m\n\u001b[1;32m      2\u001b[0m \u001b[0;32mfor\u001b[0m \u001b[0mbuffer\u001b[0m \u001b[0;32min\u001b[0m \u001b[0mbuffer_list\u001b[0m\u001b[0;34m:\u001b[0m\u001b[0;34m\u001b[0m\u001b[0;34m\u001b[0m\u001b[0m\n\u001b[0;32m----> 3\u001b[0;31m     \u001b[0mroads_map\u001b[0m\u001b[0;34m.\u001b[0m\u001b[0madd_layer\u001b[0m\u001b[0;34m(\u001b[0m\u001b[0mbuffer\u001b[0m\u001b[0;34m)\u001b[0m\u001b[0;34m\u001b[0m\u001b[0;34m\u001b[0m\u001b[0m\n\u001b[0m\u001b[1;32m      4\u001b[0m \u001b[0;34m\u001b[0m\u001b[0m\n\u001b[1;32m      5\u001b[0m \u001b[0mdisplay\u001b[0m\u001b[0;34m(\u001b[0m\u001b[0mroads_map\u001b[0m\u001b[0;34m)\u001b[0m\u001b[0;34m\u001b[0m\u001b[0;34m\u001b[0m\u001b[0m\n",
      "\u001b[0;32m/opt/conda/lib/python3.9/site-packages/arcgis/widgets/_mapview/_mapview.py\u001b[0m in \u001b[0;36madd_layer\u001b[0;34m(self, item, options)\u001b[0m\n\u001b[1;32m   1503\u001b[0m         ):\n\u001b[1;32m   1504\u001b[0m             \u001b[0mitem\u001b[0m \u001b[0;34m=\u001b[0m \u001b[0mitem\u001b[0m\u001b[0;34m.\u001b[0m\u001b[0mspatial\u001b[0m\u001b[0;34m.\u001b[0m\u001b[0mto_feature_collection\u001b[0m\u001b[0;34m(\u001b[0m\u001b[0;34m)\u001b[0m\u001b[0;34m\u001b[0m\u001b[0;34m\u001b[0m\u001b[0m\n\u001b[0;32m-> 1505\u001b[0;31m         \u001b[0mself\u001b[0m\u001b[0;34m.\u001b[0m\u001b[0m_add_layer_to_widget\u001b[0m\u001b[0;34m(\u001b[0m\u001b[0mitem\u001b[0m\u001b[0;34m,\u001b[0m \u001b[0moptions\u001b[0m\u001b[0;34m)\u001b[0m\u001b[0;34m\u001b[0m\u001b[0;34m\u001b[0m\u001b[0m\n\u001b[0m\u001b[1;32m   1506\u001b[0m \u001b[0;34m\u001b[0m\u001b[0m\n\u001b[1;32m   1507\u001b[0m     \u001b[0;32mdef\u001b[0m \u001b[0m_add_layer_to_webmap\u001b[0m\u001b[0;34m(\u001b[0m\u001b[0mself\u001b[0m\u001b[0;34m,\u001b[0m \u001b[0mitem\u001b[0m\u001b[0;34m,\u001b[0m \u001b[0moptions\u001b[0m\u001b[0;34m)\u001b[0m\u001b[0;34m:\u001b[0m\u001b[0;34m\u001b[0m\u001b[0;34m\u001b[0m\u001b[0m\n",
      "\u001b[0;32m/opt/conda/lib/python3.9/site-packages/arcgis/widgets/_mapview/_mapview.py\u001b[0m in \u001b[0;36m_add_layer_to_widget\u001b[0;34m(self, item, options)\u001b[0m\n\u001b[1;32m   1608\u001b[0m                     \u001b[0mself\u001b[0m\u001b[0;34m.\u001b[0m\u001b[0m_add_layer_to_widget\u001b[0m\u001b[0;34m(\u001b[0m\u001b[0mitem_\u001b[0m\u001b[0;34m,\u001b[0m \u001b[0moptions\u001b[0m\u001b[0;34m)\u001b[0m\u001b[0;34m\u001b[0m\u001b[0;34m\u001b[0m\u001b[0m\n\u001b[1;32m   1609\u001b[0m         \u001b[0;32melse\u001b[0m\u001b[0;34m:\u001b[0m\u001b[0;34m\u001b[0m\u001b[0;34m\u001b[0m\u001b[0m\n\u001b[0;32m-> 1610\u001b[0;31m             \u001b[0;32mraise\u001b[0m \u001b[0mRuntimeError\u001b[0m\u001b[0;34m(\u001b[0m\u001b[0;34m\"Cannot infer layer: will not be added to map\"\u001b[0m\u001b[0;34m)\u001b[0m\u001b[0;34m\u001b[0m\u001b[0;34m\u001b[0m\u001b[0m\n\u001b[0m\u001b[1;32m   1611\u001b[0m \u001b[0;34m\u001b[0m\u001b[0m\n\u001b[1;32m   1612\u001b[0m     \u001b[0;32mdef\u001b[0m \u001b[0m_add_notype_layer\u001b[0m\u001b[0;34m(\u001b[0m\u001b[0mself\u001b[0m\u001b[0;34m,\u001b[0m \u001b[0mitem\u001b[0m\u001b[0;34m,\u001b[0m \u001b[0mlyr_json\u001b[0m\u001b[0;34m,\u001b[0m \u001b[0mnew\u001b[0m\u001b[0;34m)\u001b[0m\u001b[0;34m:\u001b[0m\u001b[0;34m\u001b[0m\u001b[0;34m\u001b[0m\u001b[0m\n",
      "\u001b[0;31mRuntimeError\u001b[0m: Cannot infer layer: will not be added to map"
     ]
    }
   ],
   "source": [
    "buffer_list = ['Rice_County_buf','Dakota_County_buf','State_Forest_buf']\n",
    "for buffer in buffer_list:\n",
    "    roads_map.add_layer(buffer)\n",
    "\n",
    "display(roads_map)"
   ]
  }
 ],
 "metadata": {
  "esriNotebookRuntime": {
   "notebookRuntimeName": "ArcGIS Notebook Python 3 Standard",
   "notebookRuntimeVersion": "8.0"
  },
  "kernelspec": {
   "display_name": "Python 3 (ipykernel)",
   "language": "python",
   "name": "python3"
  },
  "language_info": {
   "codemirror_mode": {
    "name": "ipython",
    "version": 3
   },
   "file_extension": ".py",
   "mimetype": "text/x-python",
   "name": "python",
   "nbconvert_exporter": "python",
   "pygments_lexer": "ipython3",
   "version": "3.9.16"
  }
 },
 "nbformat": 4,
 "nbformat_minor": 2
}
