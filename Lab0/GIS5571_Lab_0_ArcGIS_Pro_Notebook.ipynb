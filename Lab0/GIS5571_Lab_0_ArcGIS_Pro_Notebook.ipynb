{
 "cells": [
  {
   "cell_type": "code",
   "execution_count": 9,
   "metadata": {},
   "outputs": [],
   "source": [
    "import arcpy # Import the arcpy module\n",
    "arcpy.env.workspace = (r'C:\\Users\\15612\\Documents\\GIS-5571\\Lab0') # Set up a workspace to add the output shapefiles\n",
    "feat_class_list = ['trans_roads','forest_roads','trans_trans_streets'] # Create a list with the names of the three feature classes\n",
    "for feat_class in feat_class_list: # Create for loop to loop through each of the feature classes\n",
    "    arcpy.analysis.Buffer(feat_class,feat_class + '_buf','100 Meters') # use the Buffer function to create a 100-meter buffer"
   ]
  }
 ],
 "metadata": {
  "kernelspec": {
   "display_name": "ArcGISPro",
   "language": "Python",
   "name": "python3"
  },
  "language_info": {
   "file_extension": ".py",
   "name": "python",
   "version": "3"
  }
 },
 "nbformat": 4,
 "nbformat_minor": 2
}
